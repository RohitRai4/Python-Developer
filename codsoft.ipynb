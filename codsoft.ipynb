{
 "cells": [
  {
   "cell_type": "markdown",
   "id": "d311c7ab-b634-4647-b652-75f128df7f21",
   "metadata": {},
   "source": [
    "# Python Programming"
   ]
  },
  {
   "cell_type": "markdown",
   "id": "794ad0b1-4f82-4e3e-9a9f-7d4d31604183",
   "metadata": {},
   "source": [
    "# 1.CALCULATOR\n",
    "\n",
    "Design a simple calculator with basic arithmetic operations.\n",
    "Prompt the user to input two numbers and an operation choice.\n",
    "Perform the calculation and display the result."
   ]
  },
  {
   "cell_type": "code",
   "execution_count": 5,
   "id": "e3e82d07-8e3f-4a71-a899-aff105994500",
   "metadata": {},
   "outputs": [
    {
     "name": "stdin",
     "output_type": "stream",
     "text": [
      "Enter first number:  3\n",
      "Enter second number:  4\n",
      "Enter the operation(+,-,//,*):  -\n"
     ]
    },
    {
     "name": "stdout",
     "output_type": "stream",
     "text": [
      "Substraction of 3 from 4 is 1\n"
     ]
    }
   ],
   "source": [
    "\n",
    "num1 = int(input(\"Enter first number: \"))\n",
    "num2 = int(input(\"Enter second number: \"))\n",
    "operation = input(\"Enter the operation(+,-,//,*): \")\n",
    "\n",
    "if operation==\"+\":\n",
    "    print(f\"Sum of {num1} and {num2} is\",num1+num2)\n",
    "elif operation==\"-\":\n",
    "    print(f\"Substraction of {num1} from {num2} is\",abs(num1-num2))\n",
    "elif operation==\"//\":\n",
    "    print(f\"Division of {num1} from {num2} is\" ,num1//num2)\n",
    "elif operation==\"*\":\n",
    "    print(f\"Multiply of {num1} from {num2} is\",num1*num2)\n",
    "\n",
    "else:\n",
    "\n",
    "    print(\"Please enter correct operation\")\n",
    "\n"
   ]
  },
  {
   "cell_type": "code",
   "execution_count": null,
   "id": "532d297d-1ba6-4f95-9c8f-ab5bc80340bd",
   "metadata": {},
   "outputs": [],
   "source": []
  },
  {
   "cell_type": "code",
   "execution_count": null,
   "id": "4ea7439c-3217-42e4-ae29-7b47ac5d3921",
   "metadata": {},
   "outputs": [],
   "source": []
  },
  {
   "cell_type": "markdown",
   "id": "1d36d403-9ccc-4e96-8c33-10cdaf215e34",
   "metadata": {},
   "source": [
    "# 2.Rock-Paper-Scissors Game\n",
    "\n",
    "User Input: Prompt the user to choose rock, paper, or scissors.\n",
    "Computer Selection: Generate a random choice (rock, paper, or scissors) for the computer.\n",
    "Game Logic: Determine the winner based on the user's choice and the computer's choice.\n",
    "Rock beats scissors, scissors beat paper, and paper beats rock.\n",
    "Display Result: Show the user's choice and the computer's choice.\n",
    "Display the result, whether the user wins, loses, or it's a tie.\n",
    "Score Tracking (Optional): Keep track of the user's and computer's scores for multiple rounds.\n",
    "Play Again: Ask the user if they want to play another round.\n",
    "User Interface: Design a user-friendly interface with clear instructions and feedback."
   ]
  },
  {
   "cell_type": "code",
   "execution_count": 7,
   "id": "d158f75a-4877-47b1-bc2d-1e6f18ba6b1d",
   "metadata": {},
   "outputs": [
    {
     "name": "stdout",
     "output_type": "stream",
     "text": [
      "Welcome rock,paper,sccior game\n"
     ]
    },
    {
     "name": "stdin",
     "output_type": "stream",
     "text": [
      "Enter your choice (Paper,Sccior,Rock):  rock\n"
     ]
    },
    {
     "name": "stdout",
     "output_type": "stream",
     "text": [
      "computer chioce:  sccior\n",
      "user point: 1 and computer:0\n",
      "You win the game! Your score: 1 Computer's score: 0\n",
      "\n"
     ]
    },
    {
     "name": "stdin",
     "output_type": "stream",
     "text": [
      "Do you want to play again? (yes/no):  yes\n"
     ]
    },
    {
     "name": "stdout",
     "output_type": "stream",
     "text": [
      "Welcome rock,paper,sccior game\n"
     ]
    },
    {
     "name": "stdin",
     "output_type": "stream",
     "text": [
      "Enter your choice (Paper,Sccior,Rock):  sccior\n"
     ]
    },
    {
     "name": "stdout",
     "output_type": "stream",
     "text": [
      "computer chioce:  rock\n",
      "user point: 1 and computer: 1\n",
      "It match tie \n",
      "\n"
     ]
    },
    {
     "name": "stdin",
     "output_type": "stream",
     "text": [
      "Do you want to play again? (yes/no):  no\n"
     ]
    },
    {
     "name": "stdout",
     "output_type": "stream",
     "text": [
      "Exit\n"
     ]
    }
   ],
   "source": [
    "import random\n",
    "\n",
    "comp=[\"sccior\",\"paper\",\"rock\"]\n",
    "user_point=0\n",
    "comp_point=0   \n",
    "while True:\n",
    "    print(f\"Welcome rock,paper,sccior game\")\n",
    "    \n",
    "    user=input(\"Enter your choice (Paper,Sccior,Rock): \")\n",
    "    computer=random.choice(comp)\n",
    "    print(f\"computer chioce:  {computer}\")\n",
    "    if  user==\"sccior\" and computer==\"paper\":\n",
    "        user_point=user_point+1\n",
    "        print(f\"user point: {user_point} and computer: {comp_point}\")\n",
    "\n",
    "    elif user==\"paper\" and computer==\"rock\":\n",
    "        user_point=user_point+1\n",
    "        print(f\" user point: {user_point} and computer: {comp_point}\")\n",
    "\n",
    "    elif user==\"rock\" and computer==\"sccior\":\n",
    "        user_point=user_point+1\n",
    "        print(f\"user point: {user_point} and computer:{comp_point}\")\n",
    "\n",
    "    elif user==\"sccior\" and computer==\"rock\":\n",
    "        comp_point=comp_point+1\n",
    "        print(f\"user point: {user_point} and computer: {comp_point}\")\n",
    "\n",
    "    elif user==\"paper\" and computer==\"sccior\":\n",
    "        comp_point=comp_point+1\n",
    "        print(f\"user point: {user_point} and computer: {comp_point}\")\n",
    "\n",
    "    elif user==\"rock\" and computer==\"paper\":\n",
    "        comp_point=comp_point+1\n",
    "        print(f\"user point: {user_point} and computer: {comp_point}\")\n",
    "    else:\n",
    "        user_point+=0\n",
    "        comp_point+=0\n",
    "        print(f\"user point:{user_point} and computer:{comp_point}\")\n",
    "        \n",
    "    a=user_point\n",
    "    b=comp_point\n",
    "    if a>b:\n",
    "        print(f\"You win the game! Your score: {a} Computer's score: {b}\") \n",
    "    elif a==b:\n",
    "        print(\"Match tie \")\n",
    "    else:\n",
    "        print(f\"Computer wins the game. Your score: {a} Computer's score: {b}\")\n",
    "    \n",
    "    print()\n",
    "    play_again = input(\"Do you want to play again? (yes/no): \")\n",
    "    if play_again!= \"yes\":\n",
    "        print(\"Exit\")\n",
    "        break\n",
    "\n"
   ]
  },
  {
   "cell_type": "code",
   "execution_count": null,
   "id": "ccaa84ab-060c-481e-8a7e-630d3f6ad765",
   "metadata": {},
   "outputs": [],
   "source": []
  },
  {
   "cell_type": "markdown",
   "id": "cd3b521d-eba4-4919-a5d0-2397955fd217",
   "metadata": {},
   "source": [
    "# 3.Password Generator\n",
    "\n",
    "A password generator is a useful tool that generates strong and\n",
    "random passwords for users. This project aims to create a\n",
    "password generator application using Python, allowing users to\n",
    "specify the length and complexity of the password.\n",
    "User Input: Prompt the user to specify the desired length of the password.\n",
    "Generate Password: Use a combination of random characters to\n",
    "generate a password of the specified length.\n",
    "Display the Password: Print the generated password on the screen."
   ]
  },
  {
   "cell_type": "code",
   "execution_count": 31,
   "id": "947fcdc7-fbeb-407b-a40b-2f05dcb5e932",
   "metadata": {},
   "outputs": [
    {
     "name": "stdin",
     "output_type": "stream",
     "text": [
      "Enter  desired length of password you want 10\n",
      "Include digits? (yes/no):  yes\n",
      "Include letter? (yes/no): yes\n",
      "Include special characters? (yes/no):  yes\n"
     ]
    },
    {
     "name": "stdout",
     "output_type": "stream",
     "text": [
      ";!\"1]#5?@+"
     ]
    }
   ],
   "source": [
    "import random\n",
    "import string\n",
    "\n",
    "length=int(input(\"Enter desired length of password you want: \"))\n",
    "digits = input(\"Include digits? (yes/no): \")\n",
    "letter=input(\"Include letter? (yes/no):\")\n",
    "special_chars = input(\"Include special characters? (yes/no): \")\n",
    "\n",
    "\n",
    "if letter==\"yes\":\n",
    "    character+=string.ascii_letters\n",
    "else:\n",
    "    pass\n",
    "\n",
    "if digits==\"yes\":\n",
    "    character+=string.digits\n",
    "else:\n",
    "    pass\n",
    "\n",
    "if special_chars==\"yes\":\n",
    "    character+=string.punctuation\n",
    "else:\n",
    "    pass\n",
    "\n",
    "\n",
    "\n",
    "for i in range(length):\n",
    "    password=\"\".join(random.choice(character))\n",
    "    \n",
    "    print(password,end=\"\")\n",
    "\n",
    "\n",
    "\n"
   ]
  }
 ],
 "metadata": {
  "kernelspec": {
   "display_name": "Python 3 (ipykernel)",
   "language": "python",
   "name": "python3"
  },
  "language_info": {
   "codemirror_mode": {
    "name": "ipython",
    "version": 3
   },
   "file_extension": ".py",
   "mimetype": "text/x-python",
   "name": "python",
   "nbconvert_exporter": "python",
   "pygments_lexer": "ipython3",
   "version": "3.10.9"
  }
 },
 "nbformat": 4,
 "nbformat_minor": 5
}
